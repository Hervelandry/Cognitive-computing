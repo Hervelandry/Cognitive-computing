{
  "nbformat": 4,
  "nbformat_minor": 0,
  "metadata": {
    "colab": {
      "provenance": [],
      "authorship_tag": "ABX9TyN0nH/ICeku5SaKVU6EqvyC",
      "include_colab_link": true
    },
    "kernelspec": {
      "name": "python3",
      "display_name": "Python 3"
    },
    "language_info": {
      "name": "python"
    }
  },
  "cells": [
    {
      "cell_type": "markdown",
      "metadata": {
        "id": "view-in-github",
        "colab_type": "text"
      },
      "source": [
        "<a href=\"https://colab.research.google.com/github/Hervelandry/Cognitive-computing/blob/main/assignment1.ipynb\" target=\"_parent\"><img src=\"https://colab.research.google.com/assets/colab-badge.svg\" alt=\"Open In Colab\"/></a>"
      ]
    },
    {
      "cell_type": "code",
      "execution_count": 2,
      "metadata": {
        "colab": {
          "base_uri": "https://localhost:8080/"
        },
        "id": "DGqel68DCLve",
        "outputId": "7fc564ec-5d78-453c-cefa-aa8a558da585"
      },
      "outputs": [
        {
          "output_type": "stream",
          "name": "stdout",
          "text": [
            "Epoch 0, Loss: 0.4993115461156098\n",
            "Epoch 1000, Loss: 0.49923559684576224\n",
            "Epoch 2000, Loss: 0.4900624695898629\n",
            "Epoch 3000, Loss: 0.4317710151541003\n",
            "Epoch 4000, Loss: 0.3820561780275187\n",
            "Epoch 5000, Loss: 0.354168653833565\n",
            "Epoch 6000, Loss: 0.3367423008561655\n",
            "Epoch 7000, Loss: 0.32363789204537885\n",
            "Epoch 8000, Loss: 0.31337297216725746\n",
            "Epoch 9000, Loss: 0.30520986104061626\n",
            "\n",
            "Output after training:\n",
            "[[0.11601492]\n",
            " [0.74954116]\n",
            " [0.75229328]\n",
            " [0.57996028]]\n"
          ]
        }
      ],
      "source": [
        "import numpy as np\n",
        "\n",
        "# sigmoid function\n",
        "def sigmoid(x):\n",
        "    return 1 / (1 + np.exp(-x))\n",
        "\n",
        "# derivative of sigmoid function\n",
        "def sigmoid_derivative(x):\n",
        "    return x * (1 - x)\n",
        "\n",
        "# input dataset\n",
        "X = np.array([[0,0],\n",
        "              [0,1],\n",
        "              [1,0],\n",
        "              [1,1]])\n",
        "\n",
        "# output dataset\n",
        "y = np.array([[0],\n",
        "              [1],\n",
        "              [1],\n",
        "              [0]])\n",
        "\n",
        "# seed random numbers to make calculation deterministic\n",
        "np.random.seed(1)\n",
        "\n",
        "# initialize weights randomly with mean 0\n",
        "input_size = 2\n",
        "hidden_size = 2\n",
        "output_size = 1\n",
        "\n",
        "# weights from input to hidden layer\n",
        "weights_input_hidden = np.random.uniform(low=-1, high=1, size=(input_size, hidden_size))\n",
        "\n",
        "# weights from hidden to output layer\n",
        "weights_hidden_output = np.random.uniform(low=-1, high=1, size=(hidden_size, output_size))\n",
        "\n",
        "# training parameters\n",
        "epochs = 10000\n",
        "learning_rate = 0.1\n",
        "\n",
        "# training the neural network\n",
        "for epoch in range(epochs):\n",
        "    # Forward propagation\n",
        "    hidden_layer_input = np.dot(X, weights_input_hidden)\n",
        "    hidden_layer_output = sigmoid(hidden_layer_input)\n",
        "\n",
        "    output_layer_input = np.dot(hidden_layer_output, weights_hidden_output)\n",
        "    predicted_output = sigmoid(output_layer_input)\n",
        "\n",
        "    # Backpropagation\n",
        "    # Calculate the error\n",
        "    error = y - predicted_output\n",
        "\n",
        "    # Compute gradients\n",
        "    output_delta = error * sigmoid_derivative(predicted_output)\n",
        "    hidden_error = np.dot(output_delta, weights_hidden_output.T)\n",
        "    hidden_delta = hidden_error * sigmoid_derivative(hidden_layer_output)\n",
        "\n",
        "    # Update weights\n",
        "    weights_hidden_output += np.dot(hidden_layer_output.T, output_delta) * learning_rate\n",
        "    weights_input_hidden += np.dot(X.T, hidden_delta) * learning_rate\n",
        "\n",
        "    # Print the loss every 1000 epochs\n",
        "    if epoch % 1000 == 0:\n",
        "        loss = np.mean(np.abs(error))\n",
        "        print(f'Epoch {epoch}, Loss: {loss}')\n",
        "\n",
        "# Output after training\n",
        "print(\"\\nOutput after training:\")\n",
        "print(predicted_output)\n"
      ]
    }
  ]
}